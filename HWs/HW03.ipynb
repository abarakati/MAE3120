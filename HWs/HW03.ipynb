{
 "cells": [
  {
   "cell_type": "markdown",
   "metadata": {},
   "source": [
    "### MAE 3120\n",
    "## HW 03\n",
    "\n",
    "Due 03/19\n",
    "\n",
    "For full credit, show all your work.  "
   ]
  },
  {
   "cell_type": "markdown",
   "metadata": {},
   "source": [
    "## 1\n",
    "\n",
    "A signal contains a frequency component at 10,000 Hz with amplitude 0.50 V, but there is also noise in the signal at 60 Hz, amplitude 0.20 V. The DC offset is negligible. The data are acquired with an ADC with the following parameters: input range $\\pm 5$ V and 16 bit.\n",
    "\n",
    "(a) What should be the gain of the amplifier stage(s) to make the best use of the ADC?\n",
    "\n",
    "(b) Select the sampling frequency (justify why).\n",
    "\n",
    "(c) What type of filter will you use to filter out the noise?\n",
    "\n",
    "(d) Select the appropriate cutoff frequency and order of the filter, justify all your steps.\n",
    "\n",
    "(e) How many amplifier stages will you select to build the amplifier?"
   ]
  },
  {
   "cell_type": "markdown",
   "metadata": {},
   "source": [
    "### 2\n",
    "\n",
    "(a) How do you detect clipping in your data?\n",
    "\n",
    "(b) When acquiring data, how can make sure that there is no aliasing?\n",
    "\n",
    "(c) In a digital data acquisition system, how many bits are necessary to achieve a resolution of 0.1% of full scale?\n",
    "\n",
    "(d) How can you minimize leakage in your spectra?\n",
    "\n",
    "(e) You are to capture the spectra of a 5 Hz signal.  Your sampling frequency is 15 Hz.  Select the number of points, $N$, to acquire to obtain a perfect spectra.\n",
    "\n",
    "(f) In a signal, is there more information in the phase or the amplitude of the harmonics?"
   ]
  },
  {
   "cell_type": "markdown",
   "metadata": {},
   "source": [
    "### 3\n",
    "\n",
    "Select the most appropriate digital data acquisition system between the four options below to record the following signal:\n",
    "\\begin{equation*}\n",
    "y(t) = 2.2 + 3.1 \\sin(5,000 \\pi t )\n",
    "\\end{equation*}\n",
    "For full credit, give a critic of each DAS that support your choice.\n",
    "\n",
    "(a) 16-bit A/D Converter, range =$\\pm5$ V, acquisition rate = 20 kS/s.\n",
    "\n",
    "(b) 12-bit A/D Converter, range = $\\pm 10$ V, acquisition rate = 10 kS/s.\n",
    "\n",
    "(c) 12-bit A/D Converter, range = $\\pm 10$ V, acquisition rate = 500 kS/s.\n",
    "\n",
    "(d) 16-bit A/D Converter range = $\\pm 10$ V, acquisition rate = 20 kS/s."
   ]
  }
 ],
 "metadata": {
  "kernelspec": {
   "display_name": "Python 3 (ipykernel)",
   "language": "python",
   "name": "python3"
  },
  "language_info": {
   "codemirror_mode": {
    "name": "ipython",
    "version": 3
   },
   "file_extension": ".py",
   "mimetype": "text/x-python",
   "name": "python",
   "nbconvert_exporter": "python",
   "pygments_lexer": "ipython3",
   "version": "3.9.13"
  }
 },
 "nbformat": 4,
 "nbformat_minor": 2
}
