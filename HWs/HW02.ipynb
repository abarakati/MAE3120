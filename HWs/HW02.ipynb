{
 "cells": [
  {
   "cell_type": "markdown",
   "metadata": {},
   "source": [
    "# MAE 3120\n",
    "## HW 02\n",
    "\n",
    "Due 02/27"
   ]
  },
  {
   "cell_type": "markdown",
   "metadata": {},
   "source": [
    "### Digital Camera\n",
    "\n",
    "- What is the frame rate typically used in movies?<br><p></p>\n",
    "\n",
    "- Give the resolution in pixels (horizontal x vertical) of 1080p and 4K TV? At the movie frame rate, you found above to which transfer rate does this correspond? Assume there is no compression and each pixel has 24 bit depth (8 bit/color). Express your values in bit/s. <br><p></p>\n",
    "\n",
    "- Compare this bit rate to USB 2, USB 3, and Ethernet protocols.<br><p></p>\n",
    "\n",
    "- Motion blur can be defined as when the object has moved across the sensor by at least one pixel. Assume that the object is a 2 cm diameter sphere, the diameter is imaged over 20 pixels, and it moves at 1 m/s. What should be the maximum exposure time, so that there is no motion blur?"
   ]
  },
  {
   "cell_type": "markdown",
   "metadata": {},
   "source": [
    "###  Fourier Transform\n",
    "\n",
    "Consider the periodic function:\n",
    "\n",
    "\\begin{align}\n",
    "y(t) = \\frac{t}{\\pi} \\quad \\text{for}\\, -\\pi \\geq t > \\pi\n",
    "\\end{align}\n",
    "\n",
    "(a) Plot the function $y(t)$ for $-2 \\pi \\geq t > 2 \\pi$.\n",
    "\n",
    "(b) Is the function odd or even? What does this imply for the Fourier coefficients $A_n$ and $B_n$?\n",
    "\n",
    "(c) Calculate $A_0$ and the $A_n$ and $B_n$.\n",
    "\n",
    "(d) Plot the first 8 harmonics ($n = 1 : 8$).\n",
    "\n",
    "(e) Plot of the sum of the first 8 harmonics (i.e. Fourier transform) overlapped with the original function. Describe discrepancies between the Fourier series and the original function.\n",
    "\n",
    "(f) Incease the number of harmonics in your Fourier transform. How many harmonics are necessary to reconstruct the original curve well?"
   ]
  },
  {
   "cell_type": "markdown",
   "metadata": {},
   "source": [
    "### Sampling rate\n",
    "\n",
    "The function:\n",
    "\\begin{align*}\n",
    "f(t) = 1.5 + 0.66\\cos(4 \\pi t) + 1.73\\cos( 10 \\pi t) - 0.109\\cos( 14 \\pi t) \n",
    "\\end{align*}\n",
    "\n",
    "It is sampled at 5.1 Hz and 1024 points are acquired.\n",
    "\n",
    "(a) Is there aliasing on any of the harmonics?  If so which harmonic(s)?"
   ]
  },
  {
   "cell_type": "markdown",
   "metadata": {},
   "source": [
    "(b) Plot the spectrum."
   ]
  },
  {
   "cell_type": "markdown",
   "metadata": {},
   "source": [
    "(c) Plot the original signal and the apparent signal after being sampled (use the inverse FFT to reconstruct the aliased signal in the time domain).  "
   ]
  },
  {
   "cell_type": "markdown",
   "metadata": {},
   "source": [
    "(d) Which term would you use to describe how the sampled signal looks like with respect to the original?"
   ]
  }
 ],
 "metadata": {
  "kernelspec": {
   "display_name": "Python 3 (ipykernel)",
   "language": "python",
   "name": "python3"
  },
  "language_info": {
   "codemirror_mode": {
    "name": "ipython",
    "version": 3
   },
   "file_extension": ".py",
   "mimetype": "text/x-python",
   "name": "python",
   "nbconvert_exporter": "python",
   "pygments_lexer": "ipython3",
   "version": "3.9.13"
  }
 },
 "nbformat": 4,
 "nbformat_minor": 2
}
