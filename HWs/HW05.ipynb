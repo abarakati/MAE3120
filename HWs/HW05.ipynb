{
 "cells": [
  {
   "cell_type": "markdown",
   "metadata": {},
   "source": [
    "#### MAE 3120\n",
    "## HW 05\n",
    "\n",
    "Due 04/18\n",
    "\n",
    "For full credit, show all your work.  "
   ]
  },
  {
   "cell_type": "markdown",
   "metadata": {},
   "source": [
    "### 1  Strain gage optimization\n",
    "\n",
    "A force balance can be modeled as a horizontal canteliver beam: one end is clamped and the other is free. The beam has a rectangular cross-section (width $b$ and height $h$).  The expected stress from a downward force applied at fixed point on the beam is: \n",
    "\n",
    "\\begin{align}\n",
    "\\sigma_a = 6 \\frac{F x }{b h^2}\n",
    "\\end{align}\n",
    "Where, $F$ is the force applied (here a 1 kg weight) and $x$ is the distance from center of force to the clamped edge of the beam.  Overall the beam has a cantilever length $l=100.0\\pm0.1\\,\\text{mm}$.\n",
    "\n",
    "Here: <br>\n",
    "$h=4.00\\pm0.05 \\,\\text{mm}$ <br>\n",
    "$b=12.00\\pm0.05 \\,\\text{mm}$ <br>\n",
    "$E = 207$ GPa, Young's modulus of the beam <br>\n",
    "\n",
    "One strain gauge is mounted on the top of the beam the weight.  Its strain gauge factor is $S=2.00$. It is mounted on a wheatstone bridge \n",
    "\n",
    "1- To optimize force the weight measurement where will you position along the beam length, the strain gauge and the weight?  Justify your answer.\n",
    "\n",
    "2- The load cell is located at $x_0=10.00\\pm0.04\\,\\text{mm}$ and the weight is anchored at $x_1=95.00\\pm0.1\\,\\text{mm}$.  Estimate the stress and resulting strain at the strain gauge location.\n",
    "\n",
    "3- Estimate the uncertainty in the weight measurement from the beam geometry and strain gauge alone.\n",
    "\n",
    "4- What should be the number of bit of the DAQ system to have a negligible effect on your force measurement accuracy? Assume $V_s = 10\\,\\text{V}$ and DAQ range is $\\pm 100 \\,\\text{mV}$. Justify your answer."
   ]
  },
  {
   "cell_type": "markdown",
   "metadata": {},
   "source": [
    "### 2 Strain Gage measurement system\n",
    "\n",
    "A quarter-bridge Wheatstone bridge circuit is used with a strain gage to measure strain up to $1000\\, \\mu$strain for a cylindrical, vertical cable undergoing cyclical loading at $0.1$ Hz. \n",
    "\n",
    "In addition, you know that:\n",
    "\n",
    "_ There is noise on the input: $f_{noise}=60$ Hz with amplitude $\\pm 0.050$ mV. </br>\n",
    "_ The output is sent to a DAQ board, which has a 12 bit A/D converter with a controllable range of $\\pm 0.1, 1, 5, 10$ V.</br>\n",
    "_ All Wheatstone bridge resistors have resistance $120\\,\\Omega$ including the unloaded strain gage, resulting in a balanced bridge at zero strain.</br>\n",
    "_ The strain factor is $S=2.00$.</br>\n",
    "_ The supply voltage for the Wheatstone bridge is $V_s=5.00$ VDC.\n",
    "\n",
    "\n",
    "(a) How would you mount the strain gage on the cable and on your wheatstone bridge to get a positive voltage for a positive strain?  Justify your steps.\n",
    "\n",
    "(b) What would be the maximum output voltage you expect to measure?\n",
    "\n",
    "(c) Which range would you select on your DAQ?  \n",
    "\n",
    "(d) You will need to amplify your signal to make better use of the range of your DAQ.  Select (justifying why) the value of the gain.  How many amplifier stages are necessary.\n",
    "\n",
    "(e) How would you filter the noise in the amplified data?  I.e. give the value of the cutoff frequency, order of the filter.  Justify all your steps.\n",
    "\n",
    "(f) Propose a new configuration that makes use of two strain gages to increase the sensitivity.  \n",
    "\n",
    "(g) Could you use a full bridge in this configuration?  Justify why."
   ]
  },
  {
   "cell_type": "markdown",
   "metadata": {},
   "source": [
    "### 3  Strain gages\n",
    "\n",
    "Two identical 120 $\\Omega$ strain gages are mounted $90^\\circ$ to each other (in the $x$ and $y$ directions) on the metal surface of a beam under no-load conditions. The material properties are $E = 95.3$ GPa and $\\nu = 0.305$. It is known that $x$ and $y$ are principal axes. Each strain gage is connected to a separate, but identical, quarter-bridge Wheatstone bridge with $V_s = 6.00$ VDC. Resistor $R_3$ is used as the strain gage in each of the two bridge circuits. The strain gage factor is $S = 2.081$ for both strain gages, and the bridges are balanced when there is no load. \n",
    "\n",
    "When a load is applied to the surface (loading in both the $x$- and $y$-directions), the output voltage of the bridge associated with the $x$-direction strain gage reads $V_{o,x} = 3.16$ mV, and that associated with the $y$-direction strain gage reads $V_{o,y} = -2.03$ mV.\n",
    "\n",
    "(a) Calculate $\\epsilon_x$ and $\\epsilon_y$ in units of microstrain, and calculate $\\sigma_x$ and $\\sigma_y$ in units MPa.\n",
    "\n",
    "(b) Now you want to mount the two strain gages on a single 1/2 Wheatstone bridge.  Which resistors will you use to have the maximum sensitivity?  What would be the output voltage."
   ]
  },
  {
   "cell_type": "code",
   "execution_count": null,
   "metadata": {},
   "outputs": [],
   "source": []
  }
 ],
 "metadata": {
  "kernelspec": {
   "display_name": "Python 3 (ipykernel)",
   "language": "python",
   "name": "python3"
  },
  "language_info": {
   "codemirror_mode": {
    "name": "ipython",
    "version": 3
   },
   "file_extension": ".py",
   "mimetype": "text/x-python",
   "name": "python",
   "nbconvert_exporter": "python",
   "pygments_lexer": "ipython3",
   "version": "3.9.13"
  }
 },
 "nbformat": 4,
 "nbformat_minor": 2
}
