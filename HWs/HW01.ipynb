{
 "cells": [
  {
   "cell_type": "markdown",
   "metadata": {},
   "source": [
    "# MAE 3120\n",
    "## HW 01\n",
    "\n",
    "Due 02/12"
   ]
  },
  {
   "cell_type": "markdown",
   "metadata": {},
   "source": [
    "### 1\n",
    "\n",
    "The actual (true) voltage is 3.1605 V.\n",
    "\n",
    "A digital multimeter is used to record the following voltages: 3.114, 3.010, 3.239, 3.019, 2.935, 3.050, 3.011, 3.125 V.\n",
    "\n",
    "(a) Calculate the mean systematic (or bias) error, and the precision error for this set of data.\n",
    "\n",
    "(b) If possible, how would you make the multimeter more accurate?\n",
    "\n",
    "(c) If possible, how would you make the multimeter more precise?"
   ]
  },
  {
   "cell_type": "markdown",
   "metadata": {},
   "source": [
    "### 2\n",
    "\n",
    "Consider the periodic function:\n",
    "\n",
    "\\begin{align}\n",
    "y(t) = \\frac{t}{\\pi} \\quad \\text{for}\\, -\\pi \\geq t > \\pi\n",
    "\\end{align}\n",
    "\n",
    "(a) Plot the function $y(t)$ for $-3 \\pi \\geq t > 3 \\pi$.\n",
    "\n",
    "(b) Is the function odd or even? What does this imply for the Fourier coefficients $A_n$ and $B_n$?\n",
    "\n",
    "(c) Calculate $A_0$ and the $A_n$ and $B_n$.\n",
    "\n",
    "(d) Plot the first 8 harmonics ($n = 1 : 8$).\n",
    "\n",
    "(e) Plot of the sum of the first 8 harmonics (i.e. Fourier transform) overlapped with the original function.\n",
    "Describe discrepancies between the Fourier series and the original function.\n",
    "\n",
    "(f) Incease the number of harmonics in your Fourier transform. How many harmonics are necessary to\n",
    "reconstruct the original curve well?"
   ]
  },
  {
   "cell_type": "markdown",
   "metadata": {},
   "source": [
    "### 3  \n",
    "\n",
    "The signal $y(t)$ is sampled at 4.1 Hz and 1,024 points are acquired:\n",
    "\\begin{align}\n",
    "y(t) = 0.2425 + 1.2366 \\cos(2 \\pi t) + 2.2273 \\cos(10 \\pi t) - 1.7909 \\cos(14 \\pi t)\n",
    "\\end{align}\n",
    "\n",
    "(a) Is there aliasing at any of the harmonics? If so which harmonic(s)?\n",
    "\n",
    "(b) Using FFTs, plot the spectrum. Remember to normalize the spectrum.\n",
    "\n",
    "(c) Propose a new sampling rate to digitze the signal accurately and compute the new spectra with FFT. "
   ]
  },
  {
   "cell_type": "markdown",
   "metadata": {},
   "source": [
    "### 4\n",
    "\n",
    "A voltage signal is sampled digitally in the laboratory at three different sampling frequencies. Here is a\n",
    "record of the observations:\n",
    "\n",
    "1- Data sampled at 256 Hz: A signal appears at 52 Hz with amplitude 3.0 V and another peak appears\n",
    "at 112 Hz with amplitude 1.0 V.\n",
    "\n",
    "2- Data sampled at 512 Hz: A signal appears at 204 Hz with amplitude 3.0 V. Another signal appears at\n",
    "112 Hz, with amplitude close to 1.0 V.\n",
    "\n",
    "3- Data sampled at 1,024 Hz: A signal appears at 204 Hz, with amplitude close to 3.0 V. Another signal appears 400 Hz, with amplitude close to 1.0 V. \n",
    "\n",
    "Explain any aliasing frequencies in these measurements? Show all your calculations for full credit. What are\n",
    "most likely the true frequencies (and their corresponding amplitudes) in the voltage signal?"
   ]
  },
  {
   "cell_type": "code",
   "execution_count": null,
   "metadata": {},
   "outputs": [],
   "source": []
  }
 ],
 "metadata": {
  "kernelspec": {
   "display_name": "Python 3 (ipykernel)",
   "language": "python",
   "name": "python3"
  },
  "language_info": {
   "codemirror_mode": {
    "name": "ipython",
    "version": 3
   },
   "file_extension": ".py",
   "mimetype": "text/x-python",
   "name": "python",
   "nbconvert_exporter": "python",
   "pygments_lexer": "ipython3",
   "version": "3.9.12"
  }
 },
 "nbformat": 4,
 "nbformat_minor": 2
}
