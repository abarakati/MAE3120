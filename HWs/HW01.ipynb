{
 "cells": [
  {
   "cell_type": "markdown",
   "metadata": {},
   "source": [
    "# MAE 3120\n",
    "## HW 01\n",
    "\n",
    "Due 02/06"
   ]
  },
  {
   "cell_type": "markdown",
   "metadata": {},
   "source": [
    "### 1  $1^{st}$ order high pass filter\n",
    "\n",
    "The following RC circuit is a passive first-order high-pass filter.  \n",
    "<img src=\"img/HPRCFilter.png\" width=\"240\">\n",
    "\n",
    "(a) Using complex definiation of impedance prove that (show your steps):\n",
    "\\begin{align*}\n",
    "\\frac{V_{out}}{V_{in}} = \\frac{i \\omega RC}{1 + i \\omega RC} \n",
    "\\end{align*}\n",
    "\n",
    "(b) Introduce the cutoff frequency, $f_c$: \n",
    "\\begin{align*}\n",
    "f_{c} = \\frac{1}{2\\pi RC}\n",
    "\\end{align*}\n",
    "and show that the gain, $G$, is:\n",
    "\\begin{align*}\n",
    "G = \\frac{|V_{out}|}{|V_{in}|} = \\frac{1}{\\sqrt{1+ \\left( \\frac{f_{c}}{f}\\right)^2 }}\n",
    "\\end{align*}\n",
    "\n",
    "(c) Plot the Bode diagram of this filter:\n",
    "\n",
    "Note the phase is given as: \n",
    "\\begin{align*}\n",
    "\\phi = \\arctan \\left( \\frac{f_{c}}{f} \\right)\n",
    "\\end{align*}\n",
    "\n",
    "\n",
    "(d) Does the output lead or lag the input."
   ]
  },
  {
   "cell_type": "markdown",
   "metadata": {},
   "source": [
    "### 2 Optimum power transfer\n",
    "\n",
    "<img src=\"img/OptimalLoad.png\" width=\"240\">\n",
    "\n",
    "(a) Show that the power in the load, $P_L$ is:\n",
    "\\begin{align*}\n",
    "P_L = V_T \\left( \\frac{R_L}{R_L+R_T} \\right)  \\left( \\frac{V_T}{R_L+R_T} \\right)\n",
    "\\end{align*}\n",
    "\n",
    "(b) Show that the load is optimum when:\n",
    "\\begin{align*}\n",
    "R_L = R_T\n",
    "\\end{align*}"
   ]
  },
  {
   "cell_type": "markdown",
   "metadata": {},
   "source": [
    "### 3 Differencing Amplifier\n",
    "\n",
    "\n",
    "<img src=\"img/DiffAmp.png\" width=\"240\">\n",
    "\n",
    "Show that:\n",
    "\\begin{align*}\n",
    "V_{out} = \\left( \\frac{R_2}{R_1} \\right) \\left( V_{in(+)} - V_{in(-)} \\right)\n",
    "\\end{align*}"
   ]
  },
  {
   "cell_type": "markdown",
   "metadata": {},
   "source": [
    "### 4 Design of amplifier stages\n",
    "\n",
    "One wishes to measure a pressure pulse with a very sensitive load cell. Unfortunately, the voltage output of the pressure transducer is $\\pm 5$ mV and the smallest range of our Data Acquisition (DAQ) board is $\\pm 1$ V with a desired bandwidth of 50 kHz.  The GBP of your amplifier stage is 1 MHz.\n",
    "\n",
    "(a) To utilize the most of our DAQ board dynamic range, and hence increase our resolution, we wish to amplify our signal. What should be the gain to make the most of your DAQ system?\n",
    "\n",
    "(b) How many amplifier stages would you need to successfully amplify your signal?\n",
    "\n",
    "(c) Because experiments are never easy, we have high-power\n",
    "electrical components just next to the DAQ system, which create a lot of electromagnetic noise.  Which types of amplifier stages will you use?\n",
    "\n",
    "(d) Present a diagram of your amplifier chain.\n"
   ]
  },
  {
   "cell_type": "code",
   "execution_count": null,
   "metadata": {},
   "outputs": [],
   "source": []
  }
 ],
 "metadata": {
  "kernelspec": {
   "display_name": "Python 3 (ipykernel)",
   "language": "python",
   "name": "python3"
  },
  "language_info": {
   "codemirror_mode": {
    "name": "ipython",
    "version": 3
   },
   "file_extension": ".py",
   "mimetype": "text/x-python",
   "name": "python",
   "nbconvert_exporter": "python",
   "pygments_lexer": "ipython3",
   "version": "3.11.5"
  }
 },
 "nbformat": 4,
 "nbformat_minor": 2
}
