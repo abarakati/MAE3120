{
 "cells": [
  {
   "cell_type": "markdown",
   "metadata": {},
   "source": [
    "### MAE 3120\n",
    "## HW 03\n",
    "\n",
    "Due 03/19\n",
    "\n",
    "For full credit, show all your work.  "
   ]
  },
  {
   "cell_type": "markdown",
   "metadata": {},
   "source": [
    "## 1\n",
    "\n",
    "A signal contains a frequency component at 10,000 Hz with amplitude 0.50 V, but there is also noise in the signal at 60 Hz, amplitude 0.20 V. The DC offset is negligible. The data are acquired with an ADC with the following parameters: input range $\\pm 5$ V and 16 bit.\n",
    "\n",
    "(a) What should be the gain of the amplifier stage(s) to make the best use of the ADC?"
   ]
  },
  {
   "cell_type": "markdown",
   "metadata": {},
   "source": [
    "- The signal should be amplified to 60-80% of the input of the DAQ system to prevent clipping.  We select a desired voltage of $V_{out} = 4\\, \\text{V}$ and $V_{in} = 0.5 \\, \\text{V}$:\n",
    "\n",
    "The nominal total gain, $G_{tot} = \\frac{V_{out}}{V_{in}} = \\frac{4}{0.5} = 8$\n",
    "\n",
    "We have to follow two rules:\n",
    "\n",
    "1- For the op-amp to operate in its ideal behavior and prevent impedance loading, the gain of each amplifier stage should not exceed $G_{stage} = 30$\n",
    "\n",
    "2- We should also be concerned by the Gain Bandwidth Product, $GBP$ of the amplifier stages to make sure we have adequate bandwidth.\n",
    "\n",
    "Here the desired bandwidth is $B = 10,000\\,\\text{Hz}$.  Since for our op-amps: $GBP = 10^6 \\,\\text{Hz}$, this forces a maximum gain per amplifier stages of:\n",
    "\\begin{align}\n",
    "G_{stage} = \\frac{GBP}{B} = \\frac{10^6}{5\\times10^4} = 20\n",
    "\\end{align}\n",
    "\n",
    "In conclusion, one stage of gain $G_{stage}=G_{tot}=8$ is acceptable."
   ]
  },
  {
   "cell_type": "markdown",
   "metadata": {},
   "source": [
    "(b) Select the sampling frequency (justify why).\n",
    "\n",
    "- To satisfy the Nyquist Criterion, one needs to sample at a frequency $f_s>2\\times 10^4\\,\\text{Hz}$.  For example, $f_s = 25,000\\,\\text{Hz}$."
   ]
  },
  {
   "cell_type": "markdown",
   "metadata": {},
   "source": [
    "(c) What type of filter will you use to filter out the noise?"
   ]
  },
  {
   "cell_type": "markdown",
   "metadata": {},
   "source": [
    "- The noise is at a lower frequency (60 Hz) as the signal (10,000 Hz).  We will need a high-pass filter to filter out the noise."
   ]
  },
  {
   "cell_type": "markdown",
   "metadata": {},
   "source": [
    "(d) Select the appropriate cutoff frequency and order of the filter, justify all your steps."
   ]
  },
  {
   "cell_type": "markdown",
   "metadata": {},
   "source": [
    "- As a first guess, one would choose a sampling frequency at least one order of magnitude higher than the noise (600 Hz) and one order of magnitude lower than the carrier frequency (1,000 Hz).  Thus any frequencies between 600 and 1,000 Hz is acceptable.  The goemtric mean of 600 and 1000 is 774, I choose $f_c = 800\\,\\text{Hz}$.\n",
    "\n",
    "- The amplified noise should be smaller than the quantization error $Q$.  Amplified noise amplitude is $A_{noise} = 8\\times 0.2 = 1.6\\,\\text{V}$.\n"
   ]
  },
  {
   "cell_type": "code",
   "execution_count": 7,
   "metadata": {},
   "outputs": [
    {
     "name": "stdout",
     "output_type": "stream",
     "text": [
      "Q =  7.62939453125e-05 V\n",
      "Gnoise =  4.76837158203125e-05\n",
      "G_HPF =  1.0265533875564744e-05\n"
     ]
    }
   ],
   "source": [
    "import numpy as np\n",
    "\n",
    "Q=10/2**17\n",
    "print('Q = ', Q, 'V')\n",
    "#Gain noise:\n",
    "Gnoise = Q/1.6\n",
    "print('Gnoise = ', Gnoise)\n",
    "# Gain high pass filter\n",
    "fnoise = 60 # noise frequency\n",
    "fc = 1000 # cutoff frequency\n",
    "n = 4 # order of the filter\n",
    "Ghpf = 1/np.sqrt((1+(fc/fnoise))**(2*n))\n",
    "print('G_HPF = ', Ghpf)"
   ]
  },
  {
   "cell_type": "markdown",
   "metadata": {},
   "source": [
    "I adjusted the parameters.  Filter of order 6 and with cutoff frequency $f_c = 1,000 Hz$ will have adequate attenuation on the noise.\n",
    "\n",
    "We now need to check that the carrier frequency has not been distorted, i.e. its phase has not been changed significantly."
   ]
  },
  {
   "cell_type": "code",
   "execution_count": 10,
   "metadata": {},
   "outputs": [
    {
     "name": "stdout",
     "output_type": "stream",
     "text": [
      "phase =  5.710593137499643 deg\n"
     ]
    }
   ],
   "source": [
    "fcarrier = 10000\n",
    "phase = np.arctan(fc/fcarrier)\n",
    "print('phase = ', 180/np.pi*phase, 'deg')"
   ]
  },
  {
   "cell_type": "markdown",
   "metadata": {},
   "source": [
    "The phase shift is adequate.\n",
    "\n",
    "In summary: \n",
    "The signal conditioning has an amplifier for Gain 8 (single stage) and high-pass filter of order $n=6$ and cutoff frequency, $f_c = 1,000\\,\\text{Hz}$."
   ]
  },
  {
   "cell_type": "markdown",
   "metadata": {},
   "source": [
    "### 2\n",
    "\n",
    "(a) How do you detect clipping in your data?"
   ]
  },
  {
   "cell_type": "markdown",
   "metadata": {},
   "source": [
    "- plot a histogram.  If there are data in the first and/or last bin, there is a risk of clipping."
   ]
  },
  {
   "cell_type": "markdown",
   "metadata": {},
   "source": [
    "(b) When acquiring data, how can make sure that there is no aliasing?\n",
    "\n",
    "- Change the sampling frequency while monitoring the spectra.  If the spectra changes as the frequency changes, then there is aliasing.\n",
    "\n",
    "(c) In a digital data acquisition system, how many bits are necessary to achieve a resolution of 0.1% of full scale?\n",
    "\n",
    "- Full scale is the voltage range $V_{max}-V_{min}$.  If one uses the resolution $\\Delta V$:\n",
    "\n",
    "\\begin{align}\n",
    "\\Delta V & = \\frac{V_{max}-V_{min}}{2^N}\\\\\n",
    "\\frac{\\Delta V}{V_{max}-V_{min}} = 0.001 \n",
    "\\end{align}\n",
    "Need $N=12\\,\\text{bits}$\n",
    "\n",
    "(d) How can you minimize leakage in your spectra?\n",
    "\n",
    "- 2 strategies: 1- increase frequency resolution (decrease the value of $\\Delta f = N/f_s$. i.e. increase $N$ and decrease $f_s$ while respecting the Nyquist Criterion. 2- Perfor windowing on the spectra.\n",
    "\n",
    "\n",
    "(e) You are to capture the spectra of a 5 Hz signal.  Your sampling frequency is 15 Hz.  Select the number of points, $N$, to acquire to obtain a perfect spectra.\n",
    "\n",
    "- For a perfect spectra, the signal frequency should be a multiple of the frequency resolution $\\Delta f$.  Mathematically:\n",
    "\\begin{align}\n",
    "f_{signal} = m \\Delta f = m \\frac{N}{f_s}\n",
    "\\end{align}\n",
    "For this case $N=3$ is the minimum number of points that would work, but it will only give 3 frequencies in the spectra.  $N=300$ would be more realistic.\n",
    "\n",
    "\n",
    "(f) In a signal, is there more information in the phase or the amplitude of the harmonics?\n",
    "\n",
    "- phase.  Remember the Fourier transform on Anthony Hopkins..."
   ]
  },
  {
   "cell_type": "markdown",
   "metadata": {},
   "source": [
    "### 3\n",
    "\n",
    "Select the most appropriate digital data acquisition system between the four options below to record the following signal:\n",
    "\\begin{equation*}\n",
    "y(t) = 2.2 + 3.1 \\sin(5,000 \\pi t )\n",
    "\\end{equation*}\n",
    "For full credit, give a critic of each DAS that support your choice.\n",
    "\n",
    "(a) 16-bit A/D Converter, range =$\\pm5$ V, acquisition rate = 20 kS/s.\n",
    "\n",
    "(b) 12-bit A/D Converter, range = $\\pm 10$ V, acquisition rate = 10 kS/s.\n",
    "\n",
    "(c) 12-bit A/D Converter, range = $\\pm 10$ V, acquisition rate = 500 kS/s.\n",
    "\n",
    "(d) 16-bit A/D Converter range = $\\pm 10$ V, acquisition rate = 20 kS/s."
   ]
  },
  {
   "cell_type": "markdown",
   "metadata": {},
   "source": [
    "- We need to satisfy three conditions, in this respective order: 1- Sampling rate should be appropriate to satisfy the Nyquist criterion. 2- Choose a DAS that will prevent clipping of the data.  3- Choose the system with the highest resolution (lowest $Q$ or $\\Delta V$).\n",
    "\n",
    "1- The signal frequency is $f=2,500 Hz$, to satisfy the Nyquist Criterion, we need to acquire data at $f_s > 5,000\\,\\text{Hz}$.  All the DAS are appropriate for this criterion.\n",
    "\n",
    "2- The signal amplitude is in the range: $[-0.9 - 5.3] \\text{V}$.  DAS (a) will result in clipping.  (b), (c), (d) are acceptable.\n",
    "\n",
    "3- DAS (d) has the smallest $Q$ and is the best option."
   ]
  },
  {
   "cell_type": "code",
   "execution_count": null,
   "metadata": {},
   "outputs": [],
   "source": []
  }
 ],
 "metadata": {
  "kernelspec": {
   "display_name": "Python 3 (ipykernel)",
   "language": "python",
   "name": "python3"
  },
  "language_info": {
   "codemirror_mode": {
    "name": "ipython",
    "version": 3
   },
   "file_extension": ".py",
   "mimetype": "text/x-python",
   "name": "python",
   "nbconvert_exporter": "python",
   "pygments_lexer": "ipython3",
   "version": "3.9.13"
  }
 },
 "nbformat": 4,
 "nbformat_minor": 2
}
