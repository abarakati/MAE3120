{
 "cells": [
  {
   "cell_type": "markdown",
   "id": "756bed1a",
   "metadata": {},
   "source": [
    "# Camera Lenses\n",
    "\n",
    "<img src=\"img/Meniscus_Lens_System.gif\" width=\"360\">\n",
    "\n",
    "They include prime, zoom, and telecentric lenses as well as microscope objectives.\n",
    "\n",
    "Lenses are complex systems.  The inside are organized in muliple lens groups of elements, which serve different functions.\n",
    "\n",
    "<img src=\"img/AnatomyCameraLens.png\" width=\"360\">\n",
    "\n",
    "<img src=\"img/LensElements.jpg\" width=\"360\">\n",
    "\n",
    "The first lens group collects the light from a wide angle of view and is the most important component.  The other elements serve to correct for various aberrations.  Note that you will see abrevations such as ED, SLD, or Aspherical in the lens groups.  The D stands for dispersion: it is all about controlling the dispersion to minimize chromatic aberrations.  In fact, Canon uses fluorite (really CaF$_2$) to correct for this effect.  See the illustration belwo.  Finally, note that there is an aperture, or diaphragm, in the lens system.  We will see how this affects image quality and depth of field, as well as introduce specific artifacts, such as bokeh.\n",
    "\n",
    "\n",
    "From Canon Website: https://global.canon/en/c-museum/special/exhibition2.html\n",
    "<img src=\"img/ChromaticAberration_1.jpg\" width=\"240\">\n",
    "<img src=\"img/ChromaticAberration_2.jpg\" width=\"240\">\n",
    "<img src=\"img/ChromaticAberration_3.jpg\" width=\"240\">\n",
    "<img src=\"img/ChromaticAberration_4.jpg\" width=\"240\">\n",
    "\n",
    "\n",
    "\n",
    "<img src=\"img/CameraLenses.PNG\" width=\"360\">"
   ]
  },
  {
   "cell_type": "markdown",
   "id": "cf3db541",
   "metadata": {},
   "source": [
    "## Numerical aperture\n",
    "\n",
    "$N$ f/# given by the ratio of the focal length $f$ and diameter of the entrance pupil $D$.\n",
    "\\begin{align}\n",
    "N=\\frac{f}{D}\n",
    "\\end{align}\n",
    "\n",
    "numerical aperture:\n",
    "\\begin{align}\n",
    "\\text{NA}= n \\sin \\theta = n \\sin \\left( \\arctan \\left( \\frac{D}{2f} \\right) \\right) \\approx n \\frac{D}{2f}\n",
    "\\end{align}\n",
    "within the parallax approximation\n",
    "\n",
    "_Image side numerical apeture_ (or effective/working numerical aperture)\n",
    "\\begin{align}\n",
    "\\frac{1}{2\\text{NA}_i} = N_w = \\left( 1+\\frac{M}{P} \\right) \\frac{f}{D}\n",
    "\\end{align}\n",
    "$P$ is the pupil magnification (ratio of diameter of exit pupil over diameter of entrance pupil).  In general, $P=1$.\n",
    "\n",
    "_Object side numerical aperture_\n",
    "\\begin{align}\n",
    "\\frac{1}{2\\text{NA}_o} = \\left( \\frac{M+P}{MP} \\right) \\frac{f}{D}\n",
    "\\end{align}"
   ]
  },
  {
   "cell_type": "markdown",
   "id": "6c4160c8",
   "metadata": {},
   "source": [
    "## Depth of field \n",
    "\n",
    "<img src=\"img/ShallowDOF.jpg\" width=\"240\">\n",
    "\n",
    "<img src=\"img/Aperture.jpg\" width=\"240\">\n",
    "\n",
    "<img src=\"img/Depth_of_field_illustration.png\" width=\"240\">\n",
    "\n",
    "## Depth of focus\n",
    "\n",
    "## Lens blur - bokeh effect\n",
    "Bokeh comes from the Japanese word boke, which means \"blur\" or \"haze\", or boke-aji, the \"blur quality.\"   Bokeh is defined as “the effect of a soft out-of-focus background that you get when shooting a subject, using a fast lens, at the widest aperture, such as f/2.8 or wider.” Simply put, bokeh is the pleasing or aesthetic quality of out-of-focus blur in a photograph.\n",
    "\n",
    "<img src=\"img/Bokeh-Backgrounds.jpg\" width=\"240\">\n",
    "In the image above, we can recognize the aperature shape in the bokeh.  Here each dew drop acts as an out of focus light source and we observe its diffraction on the image.\n",
    "\n",
    "In fact, we can plan with aperture shapre and create fun bokeh.\n",
    "\n",
    "<img src=\"img/CustomBokeh.jpg\" width=\"240\">"
   ]
  },
  {
   "cell_type": "code",
   "execution_count": null,
   "id": "5ecba217",
   "metadata": {},
   "outputs": [],
   "source": []
  },
  {
   "cell_type": "code",
   "execution_count": null,
   "id": "d7476ab7",
   "metadata": {},
   "outputs": [],
   "source": []
  }
 ],
 "metadata": {
  "kernelspec": {
   "display_name": "Python 3 (ipykernel)",
   "language": "python",
   "name": "python3"
  },
  "language_info": {
   "codemirror_mode": {
    "name": "ipython",
    "version": 3
   },
   "file_extension": ".py",
   "mimetype": "text/x-python",
   "name": "python",
   "nbconvert_exporter": "python",
   "pygments_lexer": "ipython3",
   "version": "3.11.5"
  }
 },
 "nbformat": 4,
 "nbformat_minor": 5
}
