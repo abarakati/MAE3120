{
 "cells": [
  {
   "cell_type": "markdown",
   "metadata": {},
   "source": [
    "# Review of electronics\n",
    "Let's start with passive devices first.\n",
    "\n",
    "Most of the signals of interest for us as AC (ie time dependent). \n",
    "\n",
    "The instantaneous power of an electrical signal is $P(t) = V(t) I(t)$.  The average power becomes:\n",
    "\\begin{align*}\n",
    "<P> & = \\frac{1}{T} \\int_0^T V(t') I(t') dt' \\\\\n",
    "\\end{align*}\n",
    "\n",
    "Energy stored in an electrical component:\n",
    "\\begin{align*}\n",
    "E = \\int_{0}^t V(t') I(t') dt'\n",
    "\\end{align*}\n",
    "\n",
    "\n",
    "\n",
    "### Resistor\n",
    "\\begin{align*}\n",
    "V = RI\n",
    "\\end{align*}\n",
    "_Averaged power dissipated by a resistor_ \n",
    "\\begin{align*}\n",
    "<P> & = \\frac{1}{T} \\int_0^t V(t') I(t') dt' \\\\\n",
    "    & = \\frac{V_{RMS}^2}{R} \\\\\n",
    "    & = R I_{RMS}^2\n",
    "\\end{align*}\n",
    "\n",
    "__RMS defintion__\n",
    "\\begin{align*}\n",
    "V_{RMS} & = \\sqrt{\\frac{1}{T} \\int_0^t V(t')^2 dt'}\\\\\n",
    "\\end{align*}\n",
    "\n",
    "We now know from Fourier analysis, that a well behaved signal can be decomposed as a some of sinusoidal waves.  It is therefore convenient to introduce a new definition of the amplitude of a signal that is not related to the actual amplitude of the signal, but to the average power carried by the harmonic, the RMS amplitude.\n",
    "\n",
    "RMS of a sinusoid $V(t) = V_0 \\cos (\\omega t + \\phi )$:\n",
    "\\begin{align*}\n",
    "V_{RMS}^2 & = \\frac{1}{T} \\int_0^t \\left(V_0 \\cos (\\omega t' + \\phi) \\right)^2 dt'\\\\\n",
    "& = V_0^2 \\frac{1}{2\\pi} \\int_0^{2\\pi} \\cos^2(x) dx\\\\\n",
    "& = \\frac{V_0^2}{2} \\\\\n",
    "V_{RMS} & = \\frac{V_0}{\\sqrt{2}}\n",
    "\\end{align*}\n",
    "\n",
    "$V_0$ is the amplitude of the sinusoidal signal, $V_{RMS}$ is the equivalent amplitude to the average power of the signal, $V_{pp} = 2 V_0$ is the peak to peak amplitude.\n",
    "\n",
    "### Capacitor\n",
    "<img src=\"img/Capacitor.png\" width=\"240\">\n",
    "\\begin{align*}\n",
    "I = C \\frac{dV}{dt}\n",
    "\\end{align*}\n",
    "_Energy stored in a capacitor_ $E = 1/2 CV^2$\n",
    "\n",
    "\n",
    "### Inductor\n",
    "<img src=\"img/Inductor.png\" width=\"240\">\n",
    "\\begin{align*}\n",
    "V = L \\frac{dI}{dt}\n",
    "\\end{align*}\n",
    "_Energy stored in an inductor_ $E = 1/2 LI^2$\n",
    "\n",
    "### Impedance\n",
    "\\begin{align*}\n",
    "V = Z I\n",
    "\\end{align*}\n",
    "> resistor: \n",
    "\\begin{align*}\n",
    "Z=R\n",
    "\\end{align*}\n",
    "\n",
    "> capacitor:\n",
    "\\begin{align*}\n",
    "Z=\\frac{1}{i\\omega C}\n",
    "\\end{align*}\n",
    "\n",
    "> inductor:\n",
    "\\begin{align*}\n",
    "Z=i \\omega L\n",
    "\\end{align*}\n",
    "    \n",
    "### Examples of circuits\n",
    "__Optimal load__\n",
    "    \n",
    "__DAC__"
   ]
  },
  {
   "cell_type": "markdown",
   "metadata": {},
   "source": [
    "### Diode\n",
    "It allows current to flow only in one direction (forward biased), by impeding the current to flow in the other direction (reverse biased).\n",
    "\n",
    "ADD MORE BACKGROUND:\n",
    "\n",
    "p/n JUNCTION\n",
    "\n",
    "CURRENT\n",
    "\n",
    "TRANSISTOR?\n",
    "\n",
    "\n",
    "EXEMPLES OF CIRCUITS\n",
    "\n",
    "__Half-Wave rectifier__\n",
    "\n",
    "<img src=\"img/HalfWaveRectifier.png\" width=\"240\">\n",
    "\n",
    "<img src=\"img/TimeResponseHalfWaveRectifier.png\" width=\"240\">\n",
    "\n",
    "__LED__\n",
    "\n",
    "__PHOTODIODE__"
   ]
  },
  {
   "cell_type": "markdown",
   "metadata": {},
   "source": [
    "## Operational Amplifiers\n",
    " \n",
    "<img src=\"img/Op-Amp_General.png\" width=\"240\">\n",
    "\n",
    "### Open-loop operation\n",
    "\\begin{align*}\n",
    "V_{out} = A \\left( V_{in}(+) - V_{in}(-) \\right)\n",
    "\\end{align*}\n",
    "$A$: open-loop gain\n",
    "\n",
    "_exercise_\n",
    "\n",
    ">The open-loop gain of an op-amp is $A = 1 \\times 10^6$. The high supply voltage $V^+_{supply} = 15.0\\text{ V}$. The op-amp saturates at 13.9 V. Calculate the input voltage difference (Vp − Vn) that will cause saturation when the op-amp is operated in an open-loop configuration."
   ]
  },
  {
   "cell_type": "markdown",
   "metadata": {},
   "source": [
    "### Closed-loop/feedback operation\n",
    "In practice, to avoid saturation, most op-amps are used in closed loop operation.  For an ideal op-amp, this forces to have $V_in(+) \\sim V_in(-)$ for an ideal op-amp.  We will see more on this later.\n",
    "\n",
    "__Real Op-Amp__\n",
    "\\begin{align*}\n",
    "A_0 & \\sim 10^6\\\\\n",
    "f_0 & \\sim 10^6 \\text{ Hz}\\\\\n",
    "R_{in} & \\sim 10^6 \\Omega \\\\\n",
    "R_{out} & \\sim 1 \\Omega \\\\\n",
    "\\end{align*}\n",
    "\n",
    "__Ideal Op-Amp Rules__\n",
    "\\begin{align*}\n",
    "A & = \\infty\\\\\n",
    "R_{in} & = \\infty \\\\\n",
    "R_{out} & = 0 \\\\\n",
    "I_{in} & =0 \\\\\n",
    "V_{in}(+) & = V_{in}(-)\n",
    "\\end{align*}\n",
    "\n",
    "Explain more implication of impedance loading based on real vs ideal op-amp behavior.  Will lead to max gain of $G=30$.\n",
    "\n",
    "$R_{in}<<R<<R_{out}$\n",
    "\n",
    "If Rs are too small.  Draw too much power."
   ]
  },
  {
   "cell_type": "markdown",
   "metadata": {},
   "source": [
    "### $\\times 1$ Buffer\n",
    "\n",
    "<img src=\"img/Buffer.png\" width=\"240\">\n",
    "\n",
    "\\begin{align*}\n",
    "V_{out} & =  V_{in} \\\\\n",
    "R_{out} & = 0 \\\\\n",
    "R_{in} & = \\infty\n",
    "\\end{align*}\n",
    "\n",
    "### Inverting Amplifier\n",
    "\n",
    "<img src=\"img/InvertingAmp.png\" width=\"240\">\n",
    "\n",
    "\\begin{align*}\n",
    "V_{out} = - \\frac{R_2}{R_1} V_{in}\n",
    "\\end{align*}\n",
    "\n",
    "- Input impedance: $R_{in} = R_1$\n",
    "- Output impedance: $R_{out} = 0 \\, \\Omega$\n",
    "\n",
    "_exercise_\n",
    "\n",
    "> You have access to op-amps and many $10\\text{ k}\\Omega$.  Show how these components can be used to double the voltage of an input signal. Use inverting circuits, and draw the circuit diagram.\n",
    "\n",
    "\n",
    "### Non-Inverting Amplifier\n",
    "\n",
    "<img src=\"img/Non-InvertingAmp.png\" width=\"240\">\n",
    "\n",
    "\\begin{align*}\n",
    "V_{out} = & \\left( 1+ \\frac{R_2}{R_1} \\right) V_{in}\n",
    "\\end{align*}\n",
    "\n",
    "- Input impedance: $R_{in} = \\infty$\n",
    "- Output impedance: $R_{out} 0 \\, \\Omega$\n",
    "\n",
    "\n",
    "> You have access to op-amps and many $10\\text{ k}\\Omega$.  Show how these components can be used to double the voltage of an input signal. Use non-inverting circuits, and draw the circuit diagram.\n",
    "\n",
    "### Differencing Amplifier\n",
    "\n",
    "<img src=\"img/DifferencingAmp.png\" width=\"240\">\n",
    "\n",
    "\\begin{align*}\n",
    "V_{out} =  \\frac{R_2}{R_1} \\left( V_{in}(+) - V_{in}(-) \\right) \n",
    "\\end{align*}\n",
    "\n",
    "### First-order, active, low-pass, inverting filter\n",
    "\n",
    "<img src=\"img/ActiveLPFilter.png\" width=\"240\">\n",
    "\\begin{align*}\n",
    "\\frac{V_{out}}{V_{in}} = & -  \\frac{R_2}{R_1} \\frac{1}{1+i \\omega R_2 C} \\\\\n",
    "= & -  \\frac{R_2}{R_1} \\frac{1}{1+i \\frac{f}{f_{cutoff}}} \\\\\n",
    "\\text{with } f_{cutoff} = \\frac{1}{2\\pi R_2 C} \\\\\n",
    "\\end{align*}\n",
    "\n",
    "### Non-inverting Schmitt Trigger\n",
    "We saw this circuit in the module on digital data acquisition.  It has a hysteresis by design which is accomplished with the positive feedback loop.\n",
    "\n",
    "<img src=\"img/SchmittTrigger_ciruit.png\" width=\"240\">\n",
    "\n",
    "<img src=\"img/SchmittTrigger.png\" width=\"240\">\n",
    "\n",
    "<img src=\"img/TTL_withNoise.png\" width=\"360\">\n",
    "\n",
    "### Real op-amps effects\n",
    "#### Common Mode Rejection Ratio\n",
    "\n",
    "#### Gain-Bandwidth Product, GBP\n",
    "Internal cutoff frequency: $f_c$ or bandwidth\n",
    "$G_{theoretical}$: gain of the circuit under consideration\n",
    "\n",
    "GBP is constant: $GBP \\sim 1$ MHz.\n",
    "\\begin{align*}\n",
    "GBP & = G_{theoretical} \\times f_c \\\\\n",
    "f_c & = \\frac{GBP}{G_{theoretical}}\n",
    "\\end{align*}\n",
    "\n",
    "At very high frequency op-amp acts like a low pass filter.\n",
    "\n",
    "\n",
    "<img src=\"img/GBP-741.png\" width=\"240\">"
   ]
  },
  {
   "cell_type": "code",
   "execution_count": 5,
   "metadata": {},
   "outputs": [
    {
     "name": "stdout",
     "output_type": "stream",
     "text": [
      "max frequency I can amplify :  100000.0  Hz\n"
     ]
    }
   ],
   "source": [
    "GBP = 1e6 # Hz\n",
    "G_th = 10 # dimensionless\n",
    "f_c = GBP/G_th\n",
    "print('max frequency I can amplify : ', f_c, ' Hz')"
   ]
  },
  {
   "cell_type": "markdown",
   "metadata": {},
   "source": [
    "Hearing: 20 -20 000 Hz\n",
    "$f_{sampling} > 40000$ Hz\n",
    "MP3: f_s = 44.1 kHz\n",
    "take f_s = 40 kHz\n",
    "amplify by 100: can I use a single Op-amp circuit? ie single inverting amplifier stage if GBP = 1 MHz?"
   ]
  },
  {
   "cell_type": "code",
   "execution_count": 6,
   "metadata": {},
   "outputs": [
    {
     "name": "stdout",
     "output_type": "stream",
     "text": [
      "10000.0  Hz\n"
     ]
    }
   ],
   "source": [
    "G_th = 100\n",
    "GBP = 1e6\n",
    "f_c = GBP/G_th\n",
    "print(f_c , ' Hz')"
   ]
  },
  {
   "cell_type": "markdown",
   "metadata": {},
   "source": [
    "Solution:\n",
    "Use 2 inverting op-amp circuit in series of gain G = 10\n",
    "f_c of each stage is 100 kHz > 40 kHz!!!\n",
    "I can amplify my sound!"
   ]
  },
  {
   "cell_type": "markdown",
   "metadata": {},
   "source": [
    "In practice: $G_{max}$ < 30: because of GBP, and also this would force resistances ($R_1$ and $R_2$) to be either too low or too high."
   ]
  },
  {
   "cell_type": "markdown",
   "metadata": {},
   "source": [
    "_exercise_\n",
    "\n",
    ">One wishes to measure a pressure pulse with a very sensitive pressure transducer.  Unfortunately, the voltage output of the pressure transducer is on the order of $\\pm 5$ mV and the smallest range of our Data Acquisition board is $\\pm 100$ mV.  \n",
    "\n",
    ">>To utilize the most of our DAQ board dynamic range, and hence increase our resolution, you wish to use an amplifier.  What would be the gain you would select?  \n",
    "\n",
    ">Because experiments are never easy, we have high-power electrical components just next to the DAQ system, which create a lot of electromagnetic noise.\n",
    "\n",
    ">>Will you choose an inverting or a non-inverting amplifier in this experiment?  Explain why?  (hint: here you probably want to maximize your signal to noise ratio, SNR).\n"
   ]
  },
  {
   "cell_type": "markdown",
   "metadata": {},
   "source": [
    "> One wishes to measure a impulse loading created by a detonation (i.e. a fast transient) with a pressure transducer.  The signal needs to be amplified by a factor of 100 to measure this phenomena of frequency 20,000 Hz.  The gain product bandwidth $GBP = 1$ MHz, of the 741 op-amps we have available in the lab.  \n",
    "\n",
    ">>What kind of circuit will you use, i.e. how many amplifiers? Explain why?\n",
    "\n",
    ">> Will you use inverting or non-inverting amplifiers? Justify why?\n",
    "\n"
   ]
  },
  {
   "cell_type": "code",
   "execution_count": null,
   "metadata": {},
   "outputs": [],
   "source": []
  },
  {
   "cell_type": "markdown",
   "metadata": {},
   "source": [
    "> A signal contains a frequency component at 100 Hz with amplitude 3.50 V, but there is also some undesired\n",
    "noise in the signal at 15,200 Hz, amplitude 0.20 V. The DC offset is negligible. You are not aware of the\n",
    "noise, so you sample the signal at a sampling frequency of 512 Hz and collect 4,096 data points with an 16-bit DAQ system with a range of $\\pm 5$ V.\n",
    "\n",
    ">What is the frequency resolution of this signal?"
   ]
  },
  {
   "cell_type": "markdown",
   "metadata": {},
   "source": [
    "$\\Delta t = 1/f_s$\n",
    "\n",
    "$\\Delta f = 1/T_s$\n",
    "\n",
    "$T_s$ sampling period: $T_s = N \\Delta t = N/f_s$\n",
    "\n",
    "$\\Delta f = f_s/N$"
   ]
  },
  {
   "cell_type": "code",
   "execution_count": 3,
   "metadata": {},
   "outputs": [
    {
     "name": "stdout",
     "output_type": "stream",
     "text": [
      "0.125  Hz\n"
     ]
    }
   ],
   "source": [
    "deltaf = 512/4096\n",
    "print(deltaf, ' Hz')"
   ]
  },
  {
   "cell_type": "markdown",
   "metadata": {},
   "source": [
    "> What is the folding frequency of the resulting frequency spectrum?"
   ]
  },
  {
   "cell_type": "markdown",
   "metadata": {},
   "source": [
    "$f_{folding} = f_s/2$\n",
    "\n",
    "$f_{folding} = 256$ Hz"
   ]
  },
  {
   "cell_type": "markdown",
   "metadata": {},
   "source": [
    "> You wish to add an anti-aliasing filter to the digital data acquisition system. The anti-aliasing filter is based on a first order low-pass filter.  Select the cutoff frequency of the filter, justify why."
   ]
  },
  {
   "cell_type": "code",
   "execution_count": 6,
   "metadata": {},
   "outputs": [
    {
     "name": "stdout",
     "output_type": "stream",
     "text": [
      "29.6875\n",
      "160\n"
     ]
    }
   ],
   "source": [
    "print(15200/512)\n",
    "print(30*512-15200)\n",
    "\n"
   ]
  },
  {
   "cell_type": "markdown",
   "metadata": {},
   "source": [
    "> Estimate the amplitude of the filtered noise, as well as phase and amplitude of the original signal"
   ]
  },
  {
   "cell_type": "code",
   "execution_count": 19,
   "metadata": {},
   "outputs": [
    {
     "name": "stdout",
     "output_type": "stream",
     "text": [
      "0.026943547335704327 V\n",
      "-21.336859291805656 deg\n"
     ]
    }
   ],
   "source": [
    "import numpy\n",
    "f_carrier = 100.\n",
    "f_noise = 15200.\n",
    "f_c = 256.\n",
    "G_noise = 1/numpy.sqrt(1+(f_noise/f_c)**2)\n",
    "A_noise = 1.6\n",
    "\n",
    "A_noiseFiltered = G_noise*A_noise\n",
    "print(A_noiseFiltered,'V')\n",
    "\n",
    "phi_carrier = - numpy.arctan(f_carrier/f_c) *180/numpy.pi\n",
    "print(phi_carrier,'deg')"
   ]
  },
  {
   "cell_type": "markdown",
   "metadata": {},
   "source": [
    "> How does this amplitude compare to the DAQ quantization error? "
   ]
  },
  {
   "cell_type": "code",
   "execution_count": 13,
   "metadata": {},
   "outputs": [
    {
     "name": "stdout",
     "output_type": "stream",
     "text": [
      "7.62939453125e-05 V\n"
     ]
    }
   ],
   "source": [
    "Q=(5-(-5))/2**17\n",
    "\n",
    "print(Q,'V')"
   ]
  },
  {
   "cell_type": "markdown",
   "metadata": {},
   "source": [
    "> Ideally, one wishes to make the noise on the same order than the quantization error. What would be the order of the filter necessary to do so?"
   ]
  },
  {
   "cell_type": "code",
   "execution_count": 21,
   "metadata": {},
   "outputs": [
    {
     "name": "stdout",
     "output_type": "stream",
     "text": [
      "7.643796471701661e-06 V\n"
     ]
    }
   ],
   "source": [
    "f_carrier = 100.\n",
    "f_noise = 15200.\n",
    "f_c = 256.\n",
    "G_noise = 1/numpy.sqrt(1+(f_noise/f_c)**(2*3))\n",
    "A_noise = 0.2*8\n",
    "\n",
    "A_noiseFiltered = G_noise*A_noise\n",
    "print(A_noiseFiltered,'V')"
   ]
  },
  {
   "cell_type": "code",
   "execution_count": 7,
   "metadata": {},
   "outputs": [
    {
     "name": "stdout",
     "output_type": "stream",
     "text": [
      "Q =  0.000152587890625\n",
      "G_filter =  0.000762939453125\n",
      "Gain noise 9.99999995e-05 0.13107199934463998\n",
      "Gain carrier 0.9805806756909201\n",
      "phase carrier -11.309932474020213  deg\n"
     ]
    }
   ],
   "source": [
    "Q = 20/2**17\n",
    "print('Q = ', Q)\n",
    "\n",
    "A_noise = 0.2 #V\n",
    "\n",
    "G_filter = Q/A_noise\n",
    "\n",
    "print('G_filter = ', G_filter)\n",
    "\n",
    "f_carrier = 20.\n",
    "f_noise = 10000.\n",
    "f_c = 100.\n",
    "G_noise = 1/numpy.sqrt(1+(f_noise/f_c)**4)\n",
    "G_carrier = 1/numpy.sqrt(1+(f_carrier/f_c)**2)\n",
    "phi_carrier = - numpy.arctan(f_carrier/f_c) *180/numpy.pi\n",
    "\n",
    "print('Gain noise', G_noise, G_noise/G_filter)\n",
    "print('Gain carrier', G_carrier)\n",
    "print( 'phase carrier', phi_carrier, ' deg')"
   ]
  },
  {
   "cell_type": "markdown",
   "metadata": {},
   "source": [
    ">>What is the frequency resolution of this signal?\n",
    "\n",
    ">> What is the folding frequency of the resulting frequency spectrum?\n",
    "\n",
    ">> You wish to add an anti-aliasing filter to the digital data acquisition system. The anti-aliasing filter is based on a first order low-pass filter.  Select the cutoff frequency of the filter, justify why.\n",
    "\n",
    ">> Estimate the amplitude of the filtered noise, as well as phase and amplitude of the original signal\n",
    "\n",
    ">> How does this amplitude compare to the DAQ quantization error? \n",
    "\n",
    ">> Ideally, one wishes to make the noise on the same order than the quantization error. What would be the order of the filter necessary to do so?"
   ]
  },
  {
   "cell_type": "markdown",
   "metadata": {},
   "source": [
    "\n",
    "\n",
    "<img src=\"img/Op-Amp_Feedback.png\" width=\"240\">\n",
    "\n",
    "\\begin{align*}\n",
    "V_{out} & = A(\\omega) \\left( V_{in} - f V_{out} \\right)\\\\\n",
    "\\frac{V_{out}}{V_{in}} & = \\frac{A(\\omega)}{1+f A(\\omega)}\\\\\n",
    "\\text{typically}\\\\\n",
    "A(\\omega) & = \\frac{A_0}{1+i\\frac{\\omega}{\\omega_0}}\n",
    "\\end{align*}\n"
   ]
  }
 ],
 "metadata": {
  "kernelspec": {
   "display_name": "Python 3 (ipykernel)",
   "language": "python",
   "name": "python3"
  },
  "language_info": {
   "codemirror_mode": {
    "name": "ipython",
    "version": 3
   },
   "file_extension": ".py",
   "mimetype": "text/x-python",
   "name": "python",
   "nbconvert_exporter": "python",
   "pygments_lexer": "ipython3",
   "version": "3.9.13"
  }
 },
 "nbformat": 4,
 "nbformat_minor": 2
}
