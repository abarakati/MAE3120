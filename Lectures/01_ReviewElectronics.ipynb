{
 "cells": [
  {
   "cell_type": "markdown",
   "metadata": {},
   "source": [
    "# Review of electronics\n",
    "Let's start with passive devices first.\n",
    "\n",
    "Most of the signals of interest for us as AC (ie time dependent). \n",
    "\n",
    "The instantaneous power of an electrical signal is $P(t) = V(t) I(t)$.  The average power becomes:\n",
    "\\begin{align*}\n",
    "<P> & = \\frac{1}{T} \\int_0^T V(t') I(t') dt' \\\\\n",
    "\\end{align*}\n",
    "\n",
    "Energy stored in an electrical component:\n",
    "\\begin{align*}\n",
    "E = \\int_{0}^t V(t') I(t') dt'\n",
    "\\end{align*}\n",
    "\n",
    "\n",
    "\n",
    "### Resistor\n",
    "\\begin{align*}\n",
    "V = RI\n",
    "\\end{align*}\n",
    "_Averaged power dissipated by a resistor_ \n",
    "\\begin{align*}\n",
    "<P> & = \\frac{1}{T} \\int_0^t V(t') I(t') dt' \\\\\n",
    "    & = \\frac{V_{RMS}^2}{R} \\\\\n",
    "    & = R I_{RMS}^2\n",
    "\\end{align*}\n",
    "\n",
    "__RMS defintion__\n",
    "\\begin{align*}\n",
    "V_{RMS} & = \\sqrt{\\frac{1}{T} \\int_0^t V(t')^2 dt'}\\\\\n",
    "\\end{align*}\n",
    "\n",
    "We now know from Fourier analysis, that a well behaved signal can be decomposed as a some of sinusoidal waves.  It is therefore convenient to introduce a new definition of the amplitude of a signal that is not related to the actual amplitude of the signal, but to the average power carried by the harmonic, the RMS amplitude.\n",
    "\n",
    "RMS of a sinusoid $V(t) = V_0 \\cos (\\omega t + \\phi )$:\n",
    "\\begin{align*}\n",
    "V_{RMS}^2 & = \\frac{1}{T} \\int_0^t \\left(V_0 \\cos (\\omega t' + \\phi) \\right)^2 dt'\\\\\n",
    "& = V_0^2 \\frac{1}{2\\pi} \\int_0^{2\\pi} \\cos^2(x) dx\\\\\n",
    "& = \\frac{V_0^2}{2} \\\\\n",
    "V_{RMS} & = \\frac{V_0}{\\sqrt{2}}\n",
    "\\end{align*}\n",
    "\n",
    "$V_0$ is the amplitude of the sinusoidal signal, $V_{RMS}$ is the equivalent amplitude to the average power of the signal, $V_{pp} = 2 V_0$ is the peak to peak amplitude.\n",
    "\n",
    "### Capacitor\n",
    "<img src=\"img/Capacitor.png\" width=\"240\">\n",
    "\\begin{align*}\n",
    "I = C \\frac{dV}{dt}\n",
    "\\end{align*}\n",
    "_Energy stored in a capacitor_ $E = 1/2 CV^2$\n",
    "\n",
    "\n",
    "### Inductor\n",
    "<img src=\"img/Inductor.png\" width=\"240\">\n",
    "\\begin{align*}\n",
    "V = L \\frac{dI}{dt}\n",
    "\\end{align*}\n",
    "_Energy stored in an inductor_ $E = 1/2 LI^2$\n",
    "\n",
    "### Impedance\n",
    "\\begin{align*}\n",
    "V = Z I\n",
    "\\end{align*}\n",
    "> resistor: \n",
    "\\begin{align*}\n",
    "Z=R\n",
    "\\end{align*}\n",
    "\n",
    "> capacitor:\n",
    "\\begin{align*}\n",
    "Z=\\frac{1}{i\\omega C}\n",
    "\\end{align*}\n",
    "\n",
    "> inductor:\n",
    "\\begin{align*}\n",
    "Z=i \\omega L\n",
    "\\end{align*}\n",
    "    "
   ]
  },
  {
   "cell_type": "markdown",
   "metadata": {},
   "source": [
    "### Examples of circuits\n",
    "    \n",
    "__Optimal load__\n",
    "    \n",
    "\n",
    "__RC Circuit__\n",
    "\n",
    "<img src=\"img/LPRCFilter.png\" width=\"240\">\n",
    "\n",
    "\\begin{align*}\n",
    "V_{out} & = \\left( \\frac{1/(i \\omega C)}{R + 1/(i \\omega C)} \\right) V_{in} \\\\\n",
    " & = \\left( \\frac{1}{1 + i \\omega RC} \\right) V_{in}\n",
    "\\end{align*}\n",
    "The cutoff frequency is:\n",
    "\\begin{align*}\n",
    "\\omega_{cutoff} & = \\frac{1}{RC}\\\\\n",
    "f_{cutoff} = & \\frac{\\omega_{cutoff}}{2 \\pi} = \\frac{1}{2\\pi RC}\n",
    "\\end{align*}\n",
    "\n",
    "\n",
    "A 1$^{\\mathrm{st}}$ order system has the equation:\n",
    "\\begin{align*}\n",
    "a_1 \\frac{dy}{dt} + a_0 y & = F(t) \\\\\n",
    "\\tau \\frac{dy}{dt} + y & = K F(t)\n",
    "\\end{align*}\n",
    "with $\\tau = a_1/a_0$ the time constant of the system.  \n",
    "\n",
    "Sensors that fall in that category are thermometers, thermcouples.  They are instruments that exhibit a lag due the _capacity_ of the instrument.  For thermal sensing devices, the capacity could be understood as the time it takes for the sensing element to become in thermal equilibrium with its surroundings.  For a thermocouple the parameters are:\n",
    "\\begin{align*}\n",
    "\\tau = \\frac{mC}{h_{sf}A_s}\n",
    "\\end{align*}\n",
    "with $m$: mass of thermocouple, $C$ specific heat of the thermcouple, $h_{sf}$ convection heat transfer coefficient from fluid to the sensor, and $A_s$ sensing surface area of the thermcouple.\n",
    "\n",
    "Let's derive the governing equation for a thermocouple.\n",
    "\n",
    "### Response to step-input\n",
    "\n",
    "At $t\\leqslant0$, $F(t) = 0$ and $y=y_0$, and $F(t)=A$ at $t > 0$.  The solution of the 1$^{st}$ order ode is:\n",
    "\n",
    "\\begin{align*}\n",
    "y(t) = KA + (y_0 - KA)e^{-t/\\tau}\n",
    "\\end{align*}\n",
    "\n",
    "As $t \\rightarrow \\infty$, $y\\rightarrow y_\\infty = KA$.  At $t/\\tau=1$ the signal has reached 63.21% of $y_\\infty$, $t/\\tau=5$, $y/y_\\infty > 99\\%$. The equation above can be normalized by introducing the magnitude ratio, $M(t)$.\n",
    "\n",
    "\\begin{align*}\n",
    "M(t) = \\frac{y(t)-y_0}{y_\\infty - y_0} = 1 - e^{-t/\\tau}\n",
    "\\end{align*}\n",
    "\n",
    "_Question_: \n",
    "> How would you define the dynamic error, $\\epsilon_f(t)$.\n",
    "\n",
    "\n",
    "### Response to sinusoidal-input\n",
    "Here $F(t) = A \\sin \\omega t$, with $\\omega=2\\pi f$ the radiant frequency in rad/s ($f$ is the frequency in Hz).\n",
    "\n",
    "After some math, the solution of the ode is:\n",
    "\\begin{align*}\n",
    "y(t) & = \\left( y_0 + \\frac{\\omega \\tau KA}{1+\\omega^2 \\tau^2} \\right) e^{-t/\\tau} + \\frac{KA}{\\sqrt{1+\\omega^2\\tau^2}} \\sin(\\omega t + \\phi)\\\\\n",
    "\\mathrm{with\\,the\\,phase}\\\\\n",
    "\\phi & = \\tan^{-1}(-\\omega \\tau) = -\\tan^{-1}(\\omega \\tau)\n",
    "\\end{align*}\n",
    "\n",
    "The second term on the RHS represents the _transient response_, while the third is the _steady-state response_.  When $\\omega \\tau << 1$ the transient response is negligible and the output follows the input closely.  When $\\omega \\tau >> 1$ the output is attenuated and its phase is shifted from the input by $\\phi$ (in radians).  The _phase lag_ (in seconds), or lag time, $\\beta$, is:\n",
    "\n",
    "\\begin{align*}\n",
    "\\beta = \\frac{\\phi}{\\omega}\n",
    "\\end{align*}\n",
    "\n",
    "\n",
    "This equation looks very similar to the equation for the sinusoidal response of a first order dynamic system, just using complex notation. "
   ]
  },
  {
   "cell_type": "code",
   "execution_count": 6,
   "metadata": {},
   "outputs": [],
   "source": [
    "import numpy\n",
    "\n",
    "def y_sin(t,T,tau,y_0,K,A):\n",
    "   ''' Calculate the output of a first order ode when forcing function is \n",
    "   a sine wave of frequency f with phase phi\n",
    "   Arguments\n",
    "   ---------\n",
    "   t: time (in second)\n",
    "   T : period of the forcing sine wave (s)\n",
    "   tau: time constant of the system (s)\n",
    "   K: static sensitivity (dimensionless)\n",
    "   A: amplitude of forcing (unit of F)\n",
    "   Returns\n",
    "   -------\n",
    "   y_sin : Output of 1st order ode, see eqn above.\n",
    "   '''    \n",
    "   omega = 2*numpy.pi/T # convert f to radial frequency\n",
    "   phi = -numpy.arctan(omega*tau) \n",
    "   y_sin = (y_0 + (omega*tau*K*A)/(omega**2*tau**2+1))*numpy.exp(-t/tau) + K*A/(numpy.sqrt(omega**2*tau**2+1)) \\\n",
    "    *numpy.sin(omega*t+phi)\n",
    "   \n",
    "   return y_sin\n",
    "\n",
    "t=numpy.linspace(0.0,2.0,num=100) # (s)\n",
    "\n",
    "#print('t = ', t)\n",
    "\n",
    "T = 1 # (s)\n",
    "tau = 0.5 # (s)\n",
    "y_0 = 0\n",
    "K = 1\n",
    "A = 1\n",
    "\n",
    "y_out = y_sin(t,T,tau,y_0,K,A)\n",
    "\n",
    "#print(y_out)"
   ]
  },
  {
   "cell_type": "code",
   "execution_count": 7,
   "metadata": {},
   "outputs": [
    {
     "data": {
      "image/png": "[encoded data removed]",
      "text/plain": [
       "<Figure size 640x480 with 1 Axes>"
      ]
     },
     "metadata": {},
     "output_type": "display_data"
    }
   ],
   "source": [
    "from matplotlib import pyplot\n",
    "%matplotlib inline\n",
    "\n",
    "pyplot.plot(t, y_out, color='k', linestyle='-') # output\n",
    "pyplot.plot(t, A*numpy.sin(2*numpy.pi/T*t), color='b', linestyle='--'); # input\n",
    "\n"
   ]
  },
  {
   "cell_type": "markdown",
   "metadata": {},
   "source": [
    "Gain:\n",
    "\\begin{align*}\n",
    "G & = \\frac{|V_{out}|}{|V_{in}|}\\\\\n",
    "& = \\frac{1}{\\sqrt{1+ \\left( \\frac{\\omega}{\\omega_{cutoff}}\\right)^2 }} = \\frac{1}{\\sqrt{1+ \\left( \\frac{f}{f_{cutoff}}\\right)^2 }}\n",
    "\\end{align*}\n",
    "\n",
    "Phase shift:\n",
    "\\begin{align*}\n",
    "\\phi & = \\arctan \\left( \\frac{\\text{imaginary component}}{\\text{real component}} \\right) \\\\\n",
    "& = -\\arctan \\left( \\frac{\\omega}{\\omega_{cutoff}} \\right)\n",
    "\\end{align*}\n",
    "\n",
    "<img src=\"img/1stLPFBodePlot.png\" width=\"480\">\n",
    "\n",
    "Output lags the input."
   ]
  },
  {
   "cell_type": "markdown",
   "metadata": {},
   "source": [
    "### Diode\n",
    "It allows current to flow only in one direction (forward biased), by impeding the current to flow in the other direction (reverse biased).  It is the electronic equivalent of a check valve.\n",
    "\n",
    "\n",
    "<img src=\"img/PN_diode.png\" width=\"240\">\n",
    "\n",
    "A diode is typically made of 2 types semiconductor materials: p-type and n-type.  P-type material has excess positive charges (or holes) in the outer electronic shell of neutral atoms, while n-type material has excess negative charges (or electrons).  When the two materials are put in contact, they create a p-n junction.  In thermal equilibrium and with no voltae potential applied accross the junction, electrons and holes diffuse result in the following charge distribution.\n",
    "\n",
    "\n",
    "<img src=\"img/PN-junction-equilibrium.png\" width=\"240\">\n",
    "\n",
    "Forward bias: When the p-type is connected to a positive terminal (cathode) and the n-type to a negative terminal (anode), there is a flow of electrons and holes across the junction.\n",
    "\n",
    "<img src=\"img/diode.png\" width=\"240\">\n",
    "\n",
    "Reverse bias: when the polarity is reversed, holes and electrons further separate from the junction creating a high resistance. \n",
    "\n",
    "_EXEMPLES OF CIRCUITS\n",
    "\n",
    "__Half-Wave rectifier__\n",
    "\n",
    "<img src=\"img/HalfWaveRectifier.png\" width=\"240\">\n",
    "\n",
    "<img src=\"img/TimeResponseHalfWaveRectifier.png\" width=\"240\">\n",
    "\n",
    "__LED - light emitting diode__\n",
    "In a LED, the electrons recombine with the holes, releasing photons (energy).  The energy of a photon is $\\epsilon = h \\nu =hc/\\lambda$, so the the color of the photon is inversely propotional to the energy of the electon-hole recombination and the energy necessary to cross the band gap of the semiconductor.\n",
    "\n",
    "__PHOTODIODE__\n",
    "The photodiode is the complimentary of a LED.  Here when a photon strikes a photodiode p-n junction, it creates an electron-hole pair.  Holes move toward the anode and electrons toward the cathode and a photocurrent is produced."
   ]
  },
  {
   "cell_type": "markdown",
   "metadata": {},
   "source": [
    "## Operational Amplifiers\n",
    " \n",
    "<img src=\"img/Op-Amp_General.png\" width=\"240\">\n",
    "\n",
    "### Open-loop operation\n",
    "\\begin{align*}\n",
    "V_{out} = A \\left( V_{in}(+) - V_{in}(-) \\right)\n",
    "\\end{align*}\n",
    "$A$: open-loop gain\n",
    "\n",
    "_exercise_\n",
    "\n",
    ">The open-loop gain of an op-amp is $A = 1 \\times 10^6$. The high supply voltage $V^+_{supply} = 15.0\\text{ V}$. The op-amp saturates at 13.9 V. Calculate the input voltage difference (Vp − Vn) that will cause saturation when the op-amp is operated in an open-loop configuration."
   ]
  },
  {
   "cell_type": "markdown",
   "metadata": {},
   "source": [
    "#### Exemple Digital to Analog Converter: ''Flash'' AD\n",
    "\n",
    "<img src=\"img/ADC_Flash.png\" width=\"240\">"
   ]
  },
  {
   "cell_type": "markdown",
   "metadata": {},
   "source": [
    "### Closed-loop/feedback operation\n",
    "In practice, to avoid saturation, most op-amps are used in closed loop operation.  For an ideal op-amp, this forces to have $V_in(+) \\sim V_in(-)$ for an ideal op-amp.  We will see more on this later.\n",
    "\n",
    "__Real Op-Amp__\n",
    "\\begin{align*}\n",
    "A_0 & \\sim 10^6\\\\\n",
    "f_0 & \\sim 10^6 \\text{ Hz}\\\\\n",
    "R_{in} & \\sim 10^6 \\Omega \\\\\n",
    "R_{out} & \\sim 1 \\Omega \\\\\n",
    "\\end{align*}\n",
    "\n",
    "__Ideal Op-Amp Rules__\n",
    "\\begin{align*}\n",
    "A & = \\infty\\\\\n",
    "R_{in} & = \\infty \\\\\n",
    "R_{out} & = 0 \\\\\n",
    "I_{in} & =0 \\\\\n",
    "V_{in}(+) & = V_{in}(-)\n",
    "\\end{align*}\n",
    "\n",
    "Explain more implication of impedance loading based on real vs ideal op-amp behavior.  Will lead to max gain of $G=30$.\n",
    "\n",
    "$R_{in}<<R<<R_{out}$\n",
    "\n",
    "If Rs are too small.  Draw too much power."
   ]
  },
  {
   "cell_type": "markdown",
   "metadata": {},
   "source": [
    "### $\\times 1$ Buffer\n",
    "\n",
    "<img src=\"img/Buffer.png\" width=\"240\">\n",
    "\n",
    "\\begin{align*}\n",
    "V_{out} & =  V_{in} \\\\\n",
    "R_{out} & = 0 \\\\\n",
    "R_{in} & = \\infty\n",
    "\\end{align*}\n",
    "\n",
    "### Inverting Amplifier\n",
    "\n",
    "<img src=\"img/InvertingAmp.png\" width=\"240\">\n",
    "\n",
    "\\begin{align*}\n",
    "V_{out} = - \\frac{R_2}{R_1} V_{in}\n",
    "\\end{align*}\n",
    "\n",
    "- Input impedance: $R_{in} = R_1$\n",
    "- Output impedance: $R_{out} = 0 \\, \\Omega$\n",
    "\n",
    "_exercise_\n",
    "\n",
    "> You have access to op-amps and many $10\\text{ k}\\Omega$.  Show how these components can be used to double the voltage of an input signal. Use inverting circuits, and draw the circuit diagram.\n",
    "\n",
    "\n",
    "### Non-Inverting Amplifier\n",
    "\n",
    "<img src=\"img/Non-InvertingAmp.png\" width=\"240\">\n",
    "\n",
    "\\begin{align*}\n",
    "V_{out} = & \\left( 1+ \\frac{R_2}{R_1} \\right) V_{in}\n",
    "\\end{align*}\n",
    "\n",
    "- Input impedance: $R_{in} = \\infty$\n",
    "- Output impedance: $R_{out} 0 \\, \\Omega$\n",
    "\n",
    "\n",
    "> You have access to op-amps and many $10\\text{ k}\\Omega$.  Show how these components can be used to double the voltage of an input signal. Use non-inverting circuits, and draw the circuit diagram.\n",
    "\n",
    "### Differencing Amplifier\n",
    "\n",
    "<img src=\"img/DifferencingAmp.png\" width=\"240\">\n",
    "\n",
    "\\begin{align*}\n",
    "V_{out} =  \\frac{R_2}{R_1} \\left( V_{in}(+) - V_{in}(-) \\right) \n",
    "\\end{align*}\n",
    "\n",
    "### First-order, active, low-pass, inverting filter\n",
    "\n",
    "<img src=\"img/ActiveLPFilter.png\" width=\"240\">\n",
    "\\begin{align*}\n",
    "\\frac{V_{out}}{V_{in}} = & -  \\frac{R_2}{R_1} \\frac{1}{1+i \\omega R_2 C} \\\\\n",
    "= & -  \\frac{R_2}{R_1} \\frac{1}{1+i \\frac{f}{f_{cutoff}}} \\\\\n",
    "\\text{with } f_{cutoff} = \\frac{1}{2\\pi R_2 C} \\\\\n",
    "\\end{align*}\n",
    "\n",
    "### Non-inverting Schmitt Trigger\n",
    "We saw this circuit in the module on digital data acquisition.  It has a hysteresis by design which is accomplished with the positive feedback loop.\n",
    "\n",
    "<img src=\"img/SchmittTrigger_ciruit.png\" width=\"240\">\n",
    "\n",
    "<img src=\"img/SchmittTrigger.png\" width=\"240\">\n",
    "\n",
    "<img src=\"img/TTL_withNoise.png\" width=\"360\">\n",
    "\n",
    "### Real op-amps effects\n",
    "#### Common Mode Rejection Ratio\n",
    "\n",
    "#### Gain-Bandwidth Product, GBP\n",
    "Internal cutoff frequency: $f_c$ or bandwidth\n",
    "$G_{theoretical}$: gain of the circuit under consideration\n",
    "\n",
    "GBP is constant: $GBP \\sim 1$ MHz.\n",
    "\\begin{align*}\n",
    "GBP & = G_{theoretical} \\times f_c \\\\\n",
    "f_c & = \\frac{GBP}{G_{theoretical}}\n",
    "\\end{align*}\n",
    "\n",
    "At very high frequency op-amp acts like a low pass filter.\n",
    "\n",
    "\n",
    "<img src=\"img/GBP-741.png\" width=\"240\">"
   ]
  },
  {
   "cell_type": "code",
   "execution_count": 5,
   "metadata": {},
   "outputs": [
    {
     "name": "stdout",
     "output_type": "stream",
     "text": [
      "max frequency I can amplify :  100000.0  Hz\n"
     ]
    }
   ],
   "source": [
    "GBP = 1e6 # Hz\n",
    "G_th = 10 # dimensionless\n",
    "f_c = GBP/G_th\n",
    "print('max frequency I can amplify : ', f_c, ' Hz')"
   ]
  },
  {
   "cell_type": "markdown",
   "metadata": {},
   "source": [
    "Hearing: 20 -20 000 Hz\n",
    "$f_{sampling} > 40000$ Hz\n",
    "MP3: f_s = 44.1 kHz\n",
    "take f_s = 40 kHz\n",
    "amplify by 100: can I use a single Op-amp circuit? ie single inverting amplifier stage if GBP = 1 MHz?"
   ]
  },
  {
   "cell_type": "code",
   "execution_count": 6,
   "metadata": {},
   "outputs": [
    {
     "name": "stdout",
     "output_type": "stream",
     "text": [
      "10000.0  Hz\n"
     ]
    }
   ],
   "source": [
    "G_th = 100\n",
    "GBP = 1e6\n",
    "f_c = GBP/G_th\n",
    "print(f_c , ' Hz')"
   ]
  },
  {
   "cell_type": "markdown",
   "metadata": {},
   "source": [
    "Solution:\n",
    "Use 2 inverting op-amp circuit in series of gain G = 10\n",
    "f_c of each stage is 100 kHz > 40 kHz!!!\n",
    "I can amplify my sound!"
   ]
  },
  {
   "cell_type": "markdown",
   "metadata": {},
   "source": [
    "In practice: $G_{max}$ < 30: because of GBP, and also this would force resistances ($R_1$ and $R_2$) to be either too low or too high."
   ]
  },
  {
   "cell_type": "markdown",
   "metadata": {},
   "source": [
    "_exercise_\n",
    "\n",
    ">One wishes to measure a pressure pulse with a very sensitive pressure transducer.  Unfortunately, the voltage output of the pressure transducer is on the order of $\\pm 5$ mV and the smallest range of our Data Acquisition board is $\\pm 100$ mV.  \n",
    "\n",
    ">>To utilize the most of our DAQ board dynamic range, and hence increase our resolution, you wish to use an amplifier.  What would be the gain you would select?  \n",
    "\n",
    ">Because experiments are never easy, we have high-power electrical components just next to the DAQ system, which create a lot of electromagnetic noise.\n",
    "\n",
    ">>Will you choose an inverting or a non-inverting amplifier in this experiment?  Explain why?  (hint: here you probably want to maximize your signal to noise ratio, SNR).\n"
   ]
  },
  {
   "cell_type": "markdown",
   "metadata": {},
   "source": [
    "> One wishes to measure a impulse loading created by a detonation (i.e. a fast transient) with a pressure transducer.  The signal needs to be amplified by a factor of 100 to measure this phenomena of frequency 20,000 Hz.  The gain product bandwidth $GBP = 1$ MHz, of the 741 op-amps we have available in the lab.  \n",
    "\n",
    ">>What kind of circuit will you use, i.e. how many amplifiers? Explain why?\n",
    "\n",
    ">> Will you use inverting or non-inverting amplifiers? Justify why?\n",
    "\n"
   ]
  },
  {
   "cell_type": "code",
   "execution_count": null,
   "metadata": {},
   "outputs": [],
   "source": []
  },
  {
   "cell_type": "markdown",
   "metadata": {},
   "source": [
    "> A signal contains a frequency component at 100 Hz with amplitude 3.50 V, but there is also some undesired\n",
    "noise in the signal at 15,200 Hz, amplitude 0.20 V. The DC offset is negligible. You are not aware of the\n",
    "noise, so you sample the signal at a sampling frequency of 512 Hz and collect 4,096 data points with an 16-bit DAQ system with a range of $\\pm 5$ V.\n",
    "\n",
    ">What is the frequency resolution of this signal?"
   ]
  },
  {
   "cell_type": "markdown",
   "metadata": {},
   "source": [
    "$\\Delta t = 1/f_s$\n",
    "\n",
    "$\\Delta f = 1/T_s$\n",
    "\n",
    "$T_s$ sampling period: $T_s = N \\Delta t = N/f_s$\n",
    "\n",
    "$\\Delta f = f_s/N$"
   ]
  },
  {
   "cell_type": "code",
   "execution_count": 3,
   "metadata": {},
   "outputs": [
    {
     "name": "stdout",
     "output_type": "stream",
     "text": [
      "0.125  Hz\n"
     ]
    }
   ],
   "source": [
    "deltaf = 512/4096\n",
    "print(deltaf, ' Hz')"
   ]
  },
  {
   "cell_type": "markdown",
   "metadata": {},
   "source": [
    "> What is the folding frequency of the resulting frequency spectrum?"
   ]
  },
  {
   "cell_type": "markdown",
   "metadata": {},
   "source": [
    "$f_{folding} = f_s/2$\n",
    "\n",
    "$f_{folding} = 256$ Hz"
   ]
  },
  {
   "cell_type": "markdown",
   "metadata": {},
   "source": [
    "> You wish to add an anti-aliasing filter to the digital data acquisition system. The anti-aliasing filter is based on a first order low-pass filter.  Select the cutoff frequency of the filter, justify why."
   ]
  },
  {
   "cell_type": "code",
   "execution_count": 6,
   "metadata": {},
   "outputs": [
    {
     "name": "stdout",
     "output_type": "stream",
     "text": [
      "29.6875\n",
      "160\n"
     ]
    }
   ],
   "source": [
    "print(15200/512)\n",
    "print(30*512-15200)\n",
    "\n"
   ]
  },
  {
   "cell_type": "markdown",
   "metadata": {},
   "source": [
    "> Estimate the amplitude of the filtered noise, as well as phase and amplitude of the original signal"
   ]
  },
  {
   "cell_type": "code",
   "execution_count": 19,
   "metadata": {},
   "outputs": [
    {
     "name": "stdout",
     "output_type": "stream",
     "text": [
      "0.026943547335704327 V\n",
      "-21.336859291805656 deg\n"
     ]
    }
   ],
   "source": [
    "import numpy\n",
    "f_carrier = 100.\n",
    "f_noise = 15200.\n",
    "f_c = 256.\n",
    "G_noise = 1/numpy.sqrt(1+(f_noise/f_c)**2)\n",
    "A_noise = 1.6\n",
    "\n",
    "A_noiseFiltered = G_noise*A_noise\n",
    "print(A_noiseFiltered,'V')\n",
    "\n",
    "phi_carrier = - numpy.arctan(f_carrier/f_c) *180/numpy.pi\n",
    "print(phi_carrier,'deg')"
   ]
  },
  {
   "cell_type": "markdown",
   "metadata": {},
   "source": [
    "> How does this amplitude compare to the DAQ quantization error? "
   ]
  },
  {
   "cell_type": "code",
   "execution_count": 13,
   "metadata": {},
   "outputs": [
    {
     "name": "stdout",
     "output_type": "stream",
     "text": [
      "7.62939453125e-05 V\n"
     ]
    }
   ],
   "source": [
    "Q=(5-(-5))/2**17\n",
    "\n",
    "print(Q,'V')"
   ]
  },
  {
   "cell_type": "markdown",
   "metadata": {},
   "source": [
    "> Ideally, one wishes to make the noise on the same order than the quantization error. What would be the order of the filter necessary to do so?"
   ]
  },
  {
   "cell_type": "code",
   "execution_count": 21,
   "metadata": {},
   "outputs": [
    {
     "name": "stdout",
     "output_type": "stream",
     "text": [
      "7.643796471701661e-06 V\n"
     ]
    }
   ],
   "source": [
    "f_carrier = 100.\n",
    "f_noise = 15200.\n",
    "f_c = 256.\n",
    "G_noise = 1/numpy.sqrt(1+(f_noise/f_c)**(2*3))\n",
    "A_noise = 0.2*8\n",
    "\n",
    "A_noiseFiltered = G_noise*A_noise\n",
    "print(A_noiseFiltered,'V')"
   ]
  },
  {
   "cell_type": "code",
   "execution_count": 7,
   "metadata": {},
   "outputs": [
    {
     "name": "stdout",
     "output_type": "stream",
     "text": [
      "Q =  0.000152587890625\n",
      "G_filter =  0.000762939453125\n",
      "Gain noise 9.99999995e-05 0.13107199934463998\n",
      "Gain carrier 0.9805806756909201\n",
      "phase carrier -11.309932474020213  deg\n"
     ]
    }
   ],
   "source": [
    "Q = 20/2**17\n",
    "print('Q = ', Q)\n",
    "\n",
    "A_noise = 0.2 #V\n",
    "\n",
    "G_filter = Q/A_noise\n",
    "\n",
    "print('G_filter = ', G_filter)\n",
    "\n",
    "f_carrier = 20.\n",
    "f_noise = 10000.\n",
    "f_c = 100.\n",
    "G_noise = 1/numpy.sqrt(1+(f_noise/f_c)**4)\n",
    "G_carrier = 1/numpy.sqrt(1+(f_carrier/f_c)**2)\n",
    "phi_carrier = - numpy.arctan(f_carrier/f_c) *180/numpy.pi\n",
    "\n",
    "print('Gain noise', G_noise, G_noise/G_filter)\n",
    "print('Gain carrier', G_carrier)\n",
    "print( 'phase carrier', phi_carrier, ' deg')"
   ]
  },
  {
   "cell_type": "markdown",
   "metadata": {},
   "source": [
    ">>What is the frequency resolution of this signal?\n",
    "\n",
    ">> What is the folding frequency of the resulting frequency spectrum?\n",
    "\n",
    ">> You wish to add an anti-aliasing filter to the digital data acquisition system. The anti-aliasing filter is based on a first order low-pass filter.  Select the cutoff frequency of the filter, justify why.\n",
    "\n",
    ">> Estimate the amplitude of the filtered noise, as well as phase and amplitude of the original signal\n",
    "\n",
    ">> How does this amplitude compare to the DAQ quantization error? \n",
    "\n",
    ">> Ideally, one wishes to make the noise on the same order than the quantization error. What would be the order of the filter necessary to do so?"
   ]
  },
  {
   "cell_type": "markdown",
   "metadata": {},
   "source": [
    "\n",
    "\n",
    "<img src=\"img/Op-Amp_Feedback.png\" width=\"240\">\n",
    "\n",
    "\\begin{align*}\n",
    "V_{out} & = A(\\omega) \\left( V_{in} - f V_{out} \\right)\\\\\n",
    "\\frac{V_{out}}{V_{in}} & = \\frac{A(\\omega)}{1+f A(\\omega)}\\\\\n",
    "\\text{typically}\\\\\n",
    "A(\\omega) & = \\frac{A_0}{1+i\\frac{\\omega}{\\omega_0}}\n",
    "\\end{align*}\n"
   ]
  }
 ],
 "metadata": {
  "kernelspec": {
   "display_name": "Python 3 (ipykernel)",
   "language": "python",
   "name": "python3"
  },
  "language_info": {
   "codemirror_mode": {
    "name": "ipython",
    "version": 3
   },
   "file_extension": ".py",
   "mimetype": "text/x-python",
   "name": "python",
   "nbconvert_exporter": "python",
   "pygments_lexer": "ipython3",
   "version": "3.9.13"
  }
 },
 "nbformat": 4,
 "nbformat_minor": 2
}
